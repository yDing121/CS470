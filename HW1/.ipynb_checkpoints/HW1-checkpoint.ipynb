{
 "cells": [
  {
   "cell_type": "code",
   "execution_count": 119,
   "id": "6069385f-2c14-47c4-881d-563f3c62803a",
   "metadata": {},
   "outputs": [],
   "source": [
    "import numpy as np\n",
    "import pandas as pd\n",
    "import matplotlib.pyplot as plt\n",
    "\n",
    "from scipy.stats import pearsonr\n",
    "from sklearn.metrics.pairwise import cosine_similarity\n",
    "from scipy.spatial.distance import euclidean"
   ]
  },
  {
   "cell_type": "code",
   "execution_count": 120,
   "id": "1d001f69-44de-4764-be2e-7c7510063485",
   "metadata": {},
   "outputs": [
    {
     "data": {
      "text/plain": [
       "'C:\\\\Users\\\\Lance\\\\Documents\\\\Homework\\\\CS470\\\\HW1'"
      ]
     },
     "execution_count": 120,
     "metadata": {},
     "output_type": "execute_result"
    }
   ],
   "source": [
    "import os\n",
    "\n",
    "os.getcwd()"
   ]
  },
  {
   "cell_type": "code",
   "execution_count": 121,
   "id": "ca18d894-fd5a-43b9-b552-1c892fa69cda",
   "metadata": {},
   "outputs": [
    {
     "data": {
      "text/html": [
       "<div>\n",
       "<style scoped>\n",
       "    .dataframe tbody tr th:only-of-type {\n",
       "        vertical-align: middle;\n",
       "    }\n",
       "\n",
       "    .dataframe tbody tr th {\n",
       "        vertical-align: top;\n",
       "    }\n",
       "\n",
       "    .dataframe thead th {\n",
       "        text-align: right;\n",
       "    }\n",
       "</style>\n",
       "<table border=\"1\" class=\"dataframe\">\n",
       "  <thead>\n",
       "    <tr style=\"text-align: right;\">\n",
       "      <th></th>\n",
       "      <th>person ID</th>\n",
       "      <th>age</th>\n",
       "      <th>gender</th>\n",
       "      <th>chest pain type</th>\n",
       "      <th>resting blood pressure</th>\n",
       "      <th>serum cholesterol in mg/dl</th>\n",
       "      <th>fasting blood sugar &gt; 120 mg/dl</th>\n",
       "      <th>resting electrocardiographic results</th>\n",
       "      <th>maximum heart rate achieved</th>\n",
       "      <th>exercise induced angina</th>\n",
       "      <th>oldpeak = ST depression induced by exercise relative to rest</th>\n",
       "      <th>the slope of the peak exercise ST segment</th>\n",
       "      <th>number of major vessels (0-3) colored by flourosopy</th>\n",
       "      <th>thal: 3 = normal; 6 = fixed defect; 7 = reversable defect</th>\n",
       "      <th>Has heart disease?</th>\n",
       "    </tr>\n",
       "  </thead>\n",
       "  <tbody>\n",
       "    <tr>\n",
       "      <th>0</th>\n",
       "      <td>1</td>\n",
       "      <td>70</td>\n",
       "      <td>M</td>\n",
       "      <td>Type 4</td>\n",
       "      <td>130</td>\n",
       "      <td>322</td>\n",
       "      <td>No</td>\n",
       "      <td>hypertrophy of heart</td>\n",
       "      <td>109</td>\n",
       "      <td>No</td>\n",
       "      <td>2.4</td>\n",
       "      <td>2</td>\n",
       "      <td>3</td>\n",
       "      <td>3</td>\n",
       "      <td>Yes</td>\n",
       "    </tr>\n",
       "    <tr>\n",
       "      <th>1</th>\n",
       "      <td>2</td>\n",
       "      <td>67</td>\n",
       "      <td>F</td>\n",
       "      <td>Type 3</td>\n",
       "      <td>115</td>\n",
       "      <td>564</td>\n",
       "      <td>No</td>\n",
       "      <td>hypertrophy of heart</td>\n",
       "      <td>160</td>\n",
       "      <td>No</td>\n",
       "      <td>1.6</td>\n",
       "      <td>2</td>\n",
       "      <td>0</td>\n",
       "      <td>7</td>\n",
       "      <td>No</td>\n",
       "    </tr>\n",
       "    <tr>\n",
       "      <th>2</th>\n",
       "      <td>3</td>\n",
       "      <td>57</td>\n",
       "      <td>M</td>\n",
       "      <td>Type 2</td>\n",
       "      <td>124</td>\n",
       "      <td>261</td>\n",
       "      <td>No</td>\n",
       "      <td>myocardial infarction</td>\n",
       "      <td>141</td>\n",
       "      <td>No</td>\n",
       "      <td>0.3</td>\n",
       "      <td>1</td>\n",
       "      <td>0</td>\n",
       "      <td>7</td>\n",
       "      <td>Yes</td>\n",
       "    </tr>\n",
       "    <tr>\n",
       "      <th>3</th>\n",
       "      <td>4</td>\n",
       "      <td>64</td>\n",
       "      <td>M</td>\n",
       "      <td>Type 4</td>\n",
       "      <td>128</td>\n",
       "      <td>263</td>\n",
       "      <td>No</td>\n",
       "      <td>myocardial infarction</td>\n",
       "      <td>105</td>\n",
       "      <td>Yes</td>\n",
       "      <td>0.2</td>\n",
       "      <td>2</td>\n",
       "      <td>1</td>\n",
       "      <td>7</td>\n",
       "      <td>No</td>\n",
       "    </tr>\n",
       "    <tr>\n",
       "      <th>4</th>\n",
       "      <td>5</td>\n",
       "      <td>74</td>\n",
       "      <td>F</td>\n",
       "      <td>Type 2</td>\n",
       "      <td>120</td>\n",
       "      <td>269</td>\n",
       "      <td>No</td>\n",
       "      <td>hypertrophy of heart</td>\n",
       "      <td>121</td>\n",
       "      <td>Yes</td>\n",
       "      <td>0.2</td>\n",
       "      <td>1</td>\n",
       "      <td>1</td>\n",
       "      <td>3</td>\n",
       "      <td>No</td>\n",
       "    </tr>\n",
       "  </tbody>\n",
       "</table>\n",
       "</div>"
      ],
      "text/plain": [
       "   person ID  age gender chest pain type  resting blood pressure  \\\n",
       "0          1   70      M          Type 4                     130   \n",
       "1          2   67      F          Type 3                     115   \n",
       "2          3   57      M          Type 2                     124   \n",
       "3          4   64      M          Type 4                     128   \n",
       "4          5   74      F          Type 2                     120   \n",
       "\n",
       "   serum cholesterol in mg/dl fasting blood sugar > 120 mg/dl  \\\n",
       "0                         322                              No   \n",
       "1                         564                              No   \n",
       "2                         261                              No   \n",
       "3                         263                              No   \n",
       "4                         269                              No   \n",
       "\n",
       "  resting electrocardiographic results  maximum heart rate achieved  \\\n",
       "0                 hypertrophy of heart                          109   \n",
       "1                 hypertrophy of heart                          160   \n",
       "2                myocardial infarction                          141   \n",
       "3                myocardial infarction                          105   \n",
       "4                 hypertrophy of heart                          121   \n",
       "\n",
       "  exercise induced angina  \\\n",
       "0                      No   \n",
       "1                      No   \n",
       "2                      No   \n",
       "3                     Yes   \n",
       "4                     Yes   \n",
       "\n",
       "   oldpeak = ST depression induced by exercise relative to rest  \\\n",
       "0                                                2.4              \n",
       "1                                                1.6              \n",
       "2                                                0.3              \n",
       "3                                                0.2              \n",
       "4                                                0.2              \n",
       "\n",
       "   the slope of the peak exercise ST segment  \\\n",
       "0                                          2   \n",
       "1                                          2   \n",
       "2                                          1   \n",
       "3                                          2   \n",
       "4                                          1   \n",
       "\n",
       "   number of major vessels (0-3) colored by flourosopy  \\\n",
       "0                                                  3     \n",
       "1                                                  0     \n",
       "2                                                  0     \n",
       "3                                                  1     \n",
       "4                                                  1     \n",
       "\n",
       "   thal: 3 = normal; 6 = fixed defect; 7 = reversable defect  \\\n",
       "0                                                  3           \n",
       "1                                                  7           \n",
       "2                                                  7           \n",
       "3                                                  7           \n",
       "4                                                  3           \n",
       "\n",
       "  Has heart disease?  \n",
       "0                Yes  \n",
       "1                 No  \n",
       "2                Yes  \n",
       "3                 No  \n",
       "4                 No  "
      ]
     },
     "execution_count": 121,
     "metadata": {},
     "output_type": "execute_result"
    }
   ],
   "source": [
    "df_orig = pd.read_csv(\"data/data.csv\")\n",
    "df_orig.head()"
   ]
  },
  {
   "cell_type": "code",
   "execution_count": 122,
   "id": "480a45f9-e6f3-43b3-abdb-6f9ba5440be7",
   "metadata": {},
   "outputs": [
    {
     "name": "stdout",
     "output_type": "stream",
     "text": [
      "Index(['person ID', 'age', 'gender', 'chest pain type',\n",
      "       'resting blood pressure', 'serum cholesterol in mg/dl',\n",
      "       'fasting blood sugar > 120 mg/dl',\n",
      "       'resting electrocardiographic results', 'maximum heart rate achieved',\n",
      "       'exercise induced angina',\n",
      "       'oldpeak = ST depression induced by exercise relative to rest',\n",
      "       'the slope of the peak exercise ST segment',\n",
      "       'number of major vessels (0-3) colored by flourosopy',\n",
      "       'thal: 3 = normal; 6 = fixed defect; 7 = reversable defect',\n",
      "       'Has heart disease?'],\n",
      "      dtype='object')\n",
      "\n",
      "(100, 15)\n"
     ]
    }
   ],
   "source": [
    "print(df_orig.columns)\n",
    "print()\n",
    "print(df_orig.shape)"
   ]
  },
  {
   "cell_type": "markdown",
   "id": "cedbe984-8bff-41c7-88f3-d9ff0c4ba8e4",
   "metadata": {},
   "source": [
    "## Computing proximity metrics"
   ]
  },
  {
   "cell_type": "code",
   "execution_count": 123,
   "id": "909ba3dd-1cef-47c3-aa90-2ec930f541bb",
   "metadata": {},
   "outputs": [
    {
     "name": "stdout",
     "output_type": "stream",
     "text": [
      "Index(['person ID', 'age', 'resting blood pressure',\n",
      "       'serum cholesterol in mg/dl', 'maximum heart rate achieved',\n",
      "       'oldpeak = ST depression induced by exercise relative to rest',\n",
      "       'the slope of the peak exercise ST segment',\n",
      "       'number of major vessels (0-3) colored by flourosopy',\n",
      "       'thal: 3 = normal; 6 = fixed defect; 7 = reversable defect'],\n",
      "      dtype='object')\n",
      "Shape of df:\t(100,9)\n"
     ]
    }
   ],
   "source": [
    "df = df_orig.select_dtypes(include=[\"number\"])\n",
    "print(df.columns)\n",
    "X = df.values\n",
    "n, d = df.shape\n",
    "print(f\"Shape of df:\\t({n},{d})\")"
   ]
  },
  {
   "cell_type": "markdown",
   "id": "e0d32a36-6334-4cf7-aff5-7016d74fccff",
   "metadata": {},
   "source": [
    "### Computations\n",
    "\n",
    "We will compute the pair-wise correlation between all possible pairs and store them in a matrix. We can compute just one triangular section of the matrix since these metrics are commutative."
   ]
  },
  {
   "cell_type": "code",
   "execution_count": 124,
   "id": "62ab22ba-3e23-456c-8b1b-765d5a0d6f82",
   "metadata": {},
   "outputs": [],
   "source": [
    "corrmat = np.zeros((n, n))\n",
    "cosmat = np.zeros((n,n))\n",
    "distmat = np.zeros((n,n))"
   ]
  },
  {
   "cell_type": "code",
   "execution_count": 125,
   "id": "38a04869-33e9-4c98-9927-7a5f012d1ab7",
   "metadata": {},
   "outputs": [],
   "source": [
    "def compute_corr(x, y, n, d):    \n",
    "    xbar = np.mean(x)\n",
    "    ybar = np.mean(y)\n",
    "\n",
    "    cov = 0\n",
    "    std_x = 0\n",
    "    std_y = 0\n",
    "    \n",
    "    for k in range(d):\n",
    "        cov += (x[k] - xbar) * (y[k] - ybar)\n",
    "        std_x += (x[k] - xbar) ** 2\n",
    "        std_y += (y[k] - ybar) ** 2\n",
    "        \n",
    "    cov /= n-1\n",
    "    std_x = np.sqrt(std_x / (n-1))\n",
    "    std_y = np.sqrt(std_y / (n-1))\n",
    "\n",
    "    corr = cov / (std_x * std_y)\n",
    "\n",
    "    return corr"
   ]
  },
  {
   "cell_type": "code",
   "execution_count": 126,
   "id": "c7d21abd-e3ef-4e13-a334-95ed5673ed41",
   "metadata": {},
   "outputs": [],
   "source": [
    "def compute_cos_sim(x, y, d):\n",
    "    top = 0\n",
    "\n",
    "    for i in range(d):\n",
    "        top += x[i] * y[i]\n",
    "\n",
    "    bx, by = 0, 0\n",
    "    \n",
    "    for i in range(d):\n",
    "        bx += x[i] ** 2\n",
    "        by += y[i] ** 2\n",
    "    bottom = np.sqrt(bx) * np.sqrt(by)\n",
    "\n",
    "    return top/bottom"
   ]
  },
  {
   "cell_type": "code",
   "execution_count": 127,
   "id": "e86ada4b-f12b-4ac5-802b-fd55555dc3c5",
   "metadata": {},
   "outputs": [],
   "source": [
    "for i in range(n):\n",
    "    corrmat[i, i] = 1\n",
    "    cosmat[i, i] = 1\n",
    "    for j in range(i+1, n):\n",
    "        # Correlation\n",
    "        x, y = X[i], X[j]\n",
    "        corr = compute_corr(x, y, n, d)\n",
    "        corrmat[i, j] = corr\n",
    "        corrmat[j, i] = corr\n",
    "\n",
    "        # Cosine\n",
    "        cos = compute_cos_sim(x, y, d)\n",
    "        cosmat[i, j] = cos\n",
    "        cosmat[j, i] = cos\n",
    "\n",
    "        # Euclidean Distance\n",
    "        dist = 0\n",
    "        for k in range(d):\n",
    "            dist += (x[k] - y[k]) ** 2\n",
    "        dist = np.sqrt(dist)\n",
    "        distmat[i, j] = dist\n",
    "        distmat[j, i] = dist\n",
    "        \n",
    "# c2 = np.zeros((n, n))\n",
    "# for i in range(n):\n",
    "#     for j in range(i+1, n):\n",
    "#         c2[i][j] = pearsonr(X[i], X[j], )[0]\n",
    "#         c2[j][i] = c2[i][j]\n",
    "# print(c2)\n",
    "\n",
    "# corr_matrix = np.corrcoef(X, rowvar=True)\n",
    "# print(corr_matrix)"
   ]
  },
  {
   "cell_type": "code",
   "execution_count": 128,
   "id": "493c5344-db86-423f-ab88-86922a31f830",
   "metadata": {},
   "outputs": [
    {
     "name": "stdout",
     "output_type": "stream",
     "text": [
      "[[1.         0.97831831 0.98160717 ... 0.88937292 0.94992342 0.89318022]\n",
      " [0.97831831 1.         0.94695949 ... 0.87570185 0.9330628  0.87063766]\n",
      " [0.98160717 0.94695949 1.         ... 0.92201783 0.94554064 0.92814045]\n",
      " ...\n",
      " [0.88937292 0.87570185 0.92201783 ... 1.         0.97246885 0.99695477]\n",
      " [0.94992342 0.9330628  0.94554064 ... 0.97246885 1.         0.97554645]\n",
      " [0.89318022 0.87063766 0.92814045 ... 0.99695477 0.97554645 1.        ]]\n",
      "[[1.         0.96371798 0.89524298 ... 0.88937292 0.94992342 0.89318022]\n",
      " [0.96371798 1.         0.92395532 ... 0.87008178 0.92723929 0.87017587]\n",
      " [0.89524298 0.92395532 1.         ... 0.87203904 0.86024171 0.84836876]\n",
      " ...\n",
      " [0.88937292 0.87008178 0.87203904 ... 1.         0.97246885 0.99695477]\n",
      " [0.94992342 0.92723929 0.86024171 ... 0.97246885 1.         0.97554645]\n",
      " [0.89318022 0.87017587 0.84836876 ... 0.99695477 0.97554645 1.        ]]\n"
     ]
    }
   ],
   "source": [
    "print(corrmat)\n",
    "np.savetxt(\"data/correlation_matrix.csv\", corrmat, delimiter=\",\")\n",
    "print(corr_check)"
   ]
  },
  {
   "cell_type": "code",
   "execution_count": 129,
   "id": "d4dbdc7a-eb00-46f2-b01d-695b9efa7a70",
   "metadata": {},
   "outputs": [
    {
     "name": "stdout",
     "output_type": "stream",
     "text": [
      "[[1.         0.98144694 0.98742449 ... 0.92477917 0.96443456 0.92774033]\n",
      " [0.98144694 1.         0.95683736 ... 0.89823719 0.94063923 0.89636215]\n",
      " [0.98742449 0.95683736 1.         ... 0.94966677 0.96539584 0.95376808]\n",
      " ...\n",
      " [0.92477917 0.89823719 0.94966677 ... 1.         0.98397454 0.99831606]\n",
      " [0.96443456 0.94063923 0.96539584 ... 0.98397454 1.         0.98589518]\n",
      " [0.92774033 0.89636215 0.95376808 ... 0.99831606 0.98589518 1.        ]]\n"
     ]
    }
   ],
   "source": [
    "print(cosmat)\n",
    "np.savetxt(\"data/cosine_matrix.csv\", cosmat, delimiter=\",\")"
   ]
  },
  {
   "cell_type": "code",
   "execution_count": 130,
   "id": "8a618fd6-c8e3-47f8-a89c-7df457441fa5",
   "metadata": {},
   "outputs": [
    {
     "name": "stdout",
     "output_type": "stream",
     "text": [
      "[[  0.         247.84196578  70.60035411 ... 142.94156149 102.11679588\n",
      "  138.5845951 ]\n",
      " [247.84196578   0.         303.89914445 ... 344.15439849 271.61730431\n",
      "  335.17047901]\n",
      " [ 70.60035411 303.89914445   0.         ... 102.74745739 110.85580725\n",
      "  101.09718097]\n",
      " ...\n",
      " [142.94156149 344.15439849 102.74745739 ...   0.          91.69520162\n",
      "   24.93992783]\n",
      " [102.11679588 271.61730431 110.85580725 ...  91.69520162   0.\n",
      "   78.84040842]\n",
      " [138.5845951  335.17047901 101.09718097 ...  24.93992783  78.84040842\n",
      "    0.        ]]\n"
     ]
    }
   ],
   "source": [
    "print(distmat)\n",
    "np.savetxt(\"data/dist_matrix.csv\", distmat, delimiter=\",\")"
   ]
  },
  {
   "cell_type": "code",
   "execution_count": 131,
   "id": "c3ef9994-f374-4ea6-b335-a450832568b5",
   "metadata": {},
   "outputs": [],
   "source": [
    "corr_check = np.eye(n)\n",
    "cos_check = np.eye(n)\n",
    "dist_check = np.zeros((n, n))\n",
    "\n",
    "for i in range(n):\n",
    "    for j in range(i + 1, n):\n",
    "        x, y = X[i], X[j]\n",
    "        \n",
    "        # Pearson correlation\n",
    "        corr, _ = pearsonr(x, y)\n",
    "        corr_check[i, j] = corr_check[j, i] = corr\n",
    "\n",
    "        # Cosine similarity\n",
    "        cos = cosine_similarity([x], [y])[0, 0]\n",
    "        cos_check[i, j] = cos_check[j, i] = cos\n",
    "\n",
    "        # Euclidean distance\n",
    "        dist = euclidean(x, y)\n",
    "        dist_check[i, j] = dist_check[j, i] = dist\n",
    "\n",
    "# Check if your matrices match the library results\n",
    "assert np.allclose(corrmat, corr_check, atol=1e-6), \"Correlation matrix mismatch!\"\n",
    "assert np.allclose(cosmat, cos_check, atol=1e-6), \"Cosine similarity matrix mismatch!\"\n",
    "assert np.allclose(distmat, dist_check, atol=1e-6), \"Euclidean distance matrix mismatch!\""
   ]
  },
  {
   "cell_type": "markdown",
   "id": "f3c409ea-93cf-42e0-9b59-9b55371bc7e3",
   "metadata": {},
   "source": [
    "## Summary Statistics"
   ]
  },
  {
   "cell_type": "code",
   "execution_count": 138,
   "id": "9c5f5942-758c-4c2c-8324-a2cebad28b25",
   "metadata": {},
   "outputs": [
    {
     "name": "stdout",
     "output_type": "stream",
     "text": [
      "Index(['age', 'resting blood pressure', 'serum cholesterol in mg/dl',\n",
      "       'maximum heart rate achieved',\n",
      "       'oldpeak = ST depression induced by exercise relative to rest',\n",
      "       'the slope of the peak exercise ST segment',\n",
      "       'number of major vessels (0-3) colored by flourosopy',\n",
      "       'thal: 3 = normal; 6 = fixed defect; 7 = reversable defect'],\n",
      "      dtype='object')\n",
      "(100, 8)\n"
     ]
    }
   ],
   "source": [
    "# print(df_orig.columns)\n",
    "\n",
    "curated_features = [\n",
    "    'age',\n",
    "    'resting blood pressure',\n",
    "    'serum cholesterol in mg/dl', 'maximum heart rate achieved',\n",
    "    'oldpeak = ST depression induced by exercise relative to rest',\n",
    "    'the slope of the peak exercise ST segment',\n",
    "    'number of major vessels (0-3) colored by flourosopy',\n",
    "    'thal: 3 = normal; 6 = fixed defect; 7 = reversable defect'\n",
    "]\n",
    "\n",
    "df_stats = df_orig[curated_features]\n",
    "print(df_stats.columns)\n",
    "print(df_stats.shape)"
   ]
  },
  {
   "cell_type": "code",
   "execution_count": null,
   "id": "c489cfdb-f090-4b39-bc35-8f2ebb282ace",
   "metadata": {},
   "outputs": [],
   "source": []
  }
 ],
 "metadata": {
  "kernelspec": {
   "display_name": "CS470",
   "language": "python",
   "name": "myenv"
  },
  "language_info": {
   "codemirror_mode": {
    "name": "ipython",
    "version": 3
   },
   "file_extension": ".py",
   "mimetype": "text/x-python",
   "name": "python",
   "nbconvert_exporter": "python",
   "pygments_lexer": "ipython3",
   "version": "3.9.13"
  }
 },
 "nbformat": 4,
 "nbformat_minor": 5
}
